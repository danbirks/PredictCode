{
 "cells": [
  {
   "cell_type": "markdown",
   "metadata": {},
   "source": [
    "# Near-Repeat Analysis\n",
    "\n",
    "This notebook provides analysis for how crimes cluster in space and time. Within any given window of time, we can check whether there is significant clustering within a certain distance, and within certain lengths of time. For example, perhaps a certain type of crime appears in clusters of 1500m, lasting for 4 weeks. This information can be useful for the PHS model in the Risk Models notebook.\n",
    "\n",
    "The test of significance for these clustering bandwidths in space and time is called the Knox statistic."
   ]
  },
  {
   "cell_type": "markdown",
   "metadata": {},
   "source": [
    "## Import Modules\n",
    "\n",
    "Necessary modules are imported here."
   ]
  },
  {
   "cell_type": "code",
   "execution_count": null,
   "metadata": {},
   "outputs": [],
   "source": [
    "### Run this without editing anything\n",
    "\n",
    "import sys\n",
    "import os\n",
    "import importlib\n",
    "import geopandas as gpd\n",
    "import statistics\n",
    "import time\n",
    "\n",
    "# In order to use our local edited versions of open_cp\n",
    "# scripts, we insert the parent directory of the current\n",
    "# file (\"..\") at the start of our sys.path here.\n",
    "sys.path.insert(0, os.path.abspath(\"..\"))\n",
    "\n",
    "# Elements from PredictCode's custom \"open_cp\" package\n",
    "import open_cp\n",
    "import open_cp.knox\n",
    "\n",
    "import knoxAnalysis\n",
    "importlib.reload(knoxAnalysis)\n",
    "from knoxAnalysis import make_knox_info_file, make_graphs_from_knox_file\n",
    "\n",
    "print(\"Successfully imported modules.\")"
   ]
  },
  {
   "cell_type": "markdown",
   "metadata": {},
   "source": [
    "## Set Parameters\n",
    "\n",
    "Set your parameters here. The current default arguments are for a Fantasy Durham data set."
   ]
  },
  {
   "cell_type": "code",
   "execution_count": null,
   "metadata": {},
   "outputs": [],
   "source": [
    "### Edit this, then run it\n",
    "\n",
    "\n",
    "# Location of data file\n",
    "datadir           = \"../../Data\"\n",
    "\n",
    "# Input csv file name\n",
    "in_csv_file_name  = \"Fantasy-Durham-Data.csv\"\n",
    "\n",
    "# Desired output file name for Knox information\n",
    "knoxrun_file_name = \"knoxtestingFD.txt\"\n",
    "\n",
    "# Geojson file\n",
    "geojson_file_name = \"Police_Force_Areas_December_2016_Durham_fixed.geojson\"\n",
    "\n",
    "# Crime types to include\n",
    "# If you want to consider multiple crime types together, separate them by commas\n",
    "crime_types       = \"Burglary, Vehicle crime\"\n",
    "\n",
    "# Number of iterations of the algorithm to perform\n",
    "# Around 1000 iterations is ideal, but you can reduce this to reduce the time it takes to run.\n",
    "num_knox_iterations = 1000\n",
    "\n",
    "# Size of distance bins, in meters\n",
    "knox_sbin_size = 500\n",
    "# Number of distance bins to test\n",
    "knox_sbin_num  = 4\n",
    "# Size of time bins, in days\n",
    "knox_tbin_size = 7\n",
    "# Number of time bins to test\n",
    "knox_tbin_num  = 4\n",
    "\n",
    "# Total number of experiments to run\n",
    "#  (Multiple experiments will be offset by \"time_step\", below)\n",
    "num_experiments  = 4\n",
    "# Size of the time window of events to analyse\n",
    "time_window_size = \"6W\"\n",
    "# End of the first time window\n",
    "#  (Currently, provide date in format YYYY-MM-DD)\n",
    "first_test_end   = \"2019-09-15\"\n",
    "# Time step between experiments\n",
    "time_step        = \"1W\"\n",
    "\n",
    "#  EPSG value for local geographic region; this is 27700 for most of the UK\n",
    "local_epsg      = 27700\n",
    "\n",
    "# CSV formatting parameters; current parameters are for Fantasy Durham data.\n",
    "#  Names of the appropriate columns in the header of the CSV file\n",
    "csv_date_name       = \"Date\"       # column with date (and time)\n",
    "csv_east_name       = \"Longitude\"  # column with eastings or longitudes\n",
    "csv_north_name      = \"Latitude\"   # column with northings or latitudes\n",
    "csv_crimetypes_name = \"Crime type\" # column with type of crime\n",
    "#  Format of dates in the input CSV file\n",
    "csv_date_format = \"%d/%m/%Y\"\n",
    "#  Whether the input CSV file contains long/lat as its coordinate system\n",
    "csv_longlat     = True\n",
    "#  The EPSG used by the input CSV file.\n",
    "#   If the info file uses long/lat, ignore this.\n",
    "csv_epsg        = 27700\n",
    "#  Whether the coordinates in the input CSV file use feet instead of meters.\n",
    "#   If the info file uses long/lat, ignore this.\n",
    "csv_infeet      = False\n",
    "\n",
    "\n",
    "\n",
    "# Significance thresholds we're interested in examining for crime clustering\n",
    "signif_cutoff = [0.01, 0.05, 0.1]\n",
    "\n",
    "\n",
    "print(\"Parameter assignment complete.\")"
   ]
  },
  {
   "cell_type": "markdown",
   "metadata": {},
   "source": [
    "## Generate Knox data\n",
    "\n",
    "First, this will generate a text file containing information on the significance of the various cluster bandwidth pairings tested. There will be a different set of results for each time window.\n",
    "\n",
    "Next, the text file will be processed so as to generate charts that illustrate the significance of these cluster bandwidth pairings. Regions marked with a number of A's represent bandwidth pairings that passed the strictest significance threshold listed; pairings marked with B's (one fewer than A's) passed the next strictest threshold, and so on.\n",
    "\n",
    "Colour represents the Knox Ratio, which is a related value that also corresponds to the significance of the clustering at those bandwidths."
   ]
  },
  {
   "cell_type": "code",
   "execution_count": null,
   "metadata": {
    "scrolled": false
   },
   "outputs": [],
   "source": [
    "### Run this without editing anything\n",
    "\n",
    "# Perform Knox runs and generate file of resulting Knox info\n",
    "knox_info_file = make_knox_info_file(datadir=datadir, \n",
    "                    in_csv_file_name=in_csv_file_name, \n",
    "                    out_knox_file_name=knoxrun_file_name, \n",
    "                    geojson_file_name=geojson_file_name, \n",
    "                    local_epsg_in=local_epsg, \n",
    "                    crime_types=crime_types, \n",
    "                    num_knox_iterations=num_knox_iterations, \n",
    "                    knox_sbin_size=knox_sbin_size, \n",
    "                    knox_sbin_num=knox_sbin_num, \n",
    "                    knox_tbin_size=knox_tbin_size, \n",
    "                    knox_tbin_num=knox_tbin_num, \n",
    "                    earliest_exp_time=first_test_end, \n",
    "                    num_exp=num_experiments, \n",
    "                    time_step=time_step, \n",
    "                    time_len=time_window_size, \n",
    "                    csv_date_format = csv_date_format, \n",
    "                    csv_longlat = csv_longlat, \n",
    "                    csv_epsg = csv_epsg, \n",
    "                    csv_infeet = csv_infeet, \n",
    "                    csv_col_names = [csv_date_name, csv_east_name, csv_north_name, csv_crimetypes_name], \n",
    "                    )\n",
    "\n",
    "print(\"Finished generating Knox data.\")\n",
    "print(f\"Output file should be available at: {knox_info_file}\")\n",
    "\n",
    "\n",
    "\n",
    "make_graphs_from_knox_file(knox_info_file, \n",
    "                           signif_cutoff=signif_cutoff)"
   ]
  },
  {
   "cell_type": "code",
   "execution_count": null,
   "metadata": {},
   "outputs": [],
   "source": []
  }
 ],
 "metadata": {
  "kernelspec": {
   "display_name": "Python 3",
   "language": "python",
   "name": "python3"
  },
  "language_info": {
   "codemirror_mode": {
    "name": "ipython",
    "version": 3
   },
   "file_extension": ".py",
   "mimetype": "text/x-python",
   "name": "python",
   "nbconvert_exporter": "python",
   "pygments_lexer": "ipython3",
   "version": "3.7.1"
  }
 },
 "nbformat": 4,
 "nbformat_minor": 2
}
